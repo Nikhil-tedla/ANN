{
  "cells": [
    {
      "cell_type": "markdown",
      "metadata": {
        "id": "FUJ_WUzeCb9J"
      },
      "source": [
        "# CHAPTER 4: BASIC TENSORFLOW"
      ]
    },
    {
      "cell_type": "code",
      "execution_count": null,
      "metadata": {
        "id": "2zWHj4zeCb9R",
        "outputId": "18b25638-cbae-4c1b-800b-e135148e7e24"
      },
      "outputs": [
        {
          "data": {
            "text/plain": [
              "'2.11.0'"
            ]
          },
          "execution_count": 2,
          "metadata": {},
          "output_type": "execute_result"
        }
      ],
      "source": [
        "import numpy as np\n",
        "import tensorflow as tf\n",
        "from tensorflow import keras\n",
        "from keras import layers\n",
        "tf.__version__"
      ]
    },
    {
      "cell_type": "markdown",
      "metadata": {
        "id": "9u4CfSmlCb9V"
      },
      "source": [
        "## 4.1 Data Types"
      ]
    },
    {
      "cell_type": "markdown",
      "metadata": {
        "id": "hg7llCp1Cb9W"
      },
      "source": [
        "### Numeric"
      ]
    },
    {
      "cell_type": "code",
      "execution_count": null,
      "metadata": {
        "id": "nf7xVwCnCb9X",
        "outputId": "fbdbbf40-73d2-4424-8d7d-41bf3e0f3bad"
      },
      "outputs": [
        {
          "data": {
            "text/plain": [
              "(float, tensorflow.python.framework.ops.EagerTensor, True)"
            ]
          },
          "execution_count": 3,
          "metadata": {},
          "output_type": "execute_result"
        }
      ],
      "source": [
        "a=1.2\n",
        "aa=tf.constant(1.2)\n",
        "type(a), type(aa), tf.is_tensor(aa)"
      ]
    },
    {
      "cell_type": "code",
      "execution_count": null,
      "metadata": {
        "id": "DZcKB8MoCb9Y",
        "outputId": "4ad42d13-4690-414e-964c-042ce0262f24"
      },
      "outputs": [
        {
          "data": {
            "text/plain": [
              "<tf.Tensor: shape=(3,), dtype=float32, numpy=array([1. , 2. , 3.3], dtype=float32)>"
            ]
          },
          "execution_count": 4,
          "metadata": {},
          "output_type": "execute_result"
        }
      ],
      "source": [
        "x=tf.constant([1, 2., 3.3])\n",
        "x"
      ]
    },
    {
      "cell_type": "code",
      "execution_count": null,
      "metadata": {
        "id": "hy_Z2F1jCb9a",
        "outputId": "86f86b1f-2299-4edb-920f-74aef82c6c42"
      },
      "outputs": [
        {
          "data": {
            "text/plain": [
              "array([1. , 2. , 3.3], dtype=float32)"
            ]
          },
          "execution_count": 5,
          "metadata": {},
          "output_type": "execute_result"
        }
      ],
      "source": [
        "x.numpy()"
      ]
    },
    {
      "cell_type": "code",
      "execution_count": null,
      "metadata": {
        "id": "7s0YUluOCb9b",
        "outputId": "6dcad86c-f5b0-4a09-a776-6286533a3471"
      },
      "outputs": [
        {
          "data": {
            "text/plain": [
              "(<tf.Tensor: shape=(1,), dtype=float32, numpy=array([1.2], dtype=float32)>,\n",
              " TensorShape([1]))"
            ]
          },
          "execution_count": 6,
          "metadata": {},
          "output_type": "execute_result"
        }
      ],
      "source": [
        "a=tf.constant([1.2])\n",
        "a, a.shape"
      ]
    },
    {
      "cell_type": "code",
      "execution_count": null,
      "metadata": {
        "id": "rq_zzPRRCb9c",
        "outputId": "a93d68c4-5a86-4ce2-e833-480fb00a4ff2"
      },
      "outputs": [
        {
          "data": {
            "text/plain": [
              "(<tf.Tensor: shape=(3,), dtype=float32, numpy=array([1., 2., 3.], dtype=float32)>,\n",
              " TensorShape([3]))"
            ]
          },
          "execution_count": 7,
          "metadata": {},
          "output_type": "execute_result"
        }
      ],
      "source": [
        "a=tf.constant([1, 2, 3.])\n",
        "a, a.shape"
      ]
    },
    {
      "cell_type": "code",
      "execution_count": null,
      "metadata": {
        "id": "lFDf5uauCb9d",
        "outputId": "7fd696f1-779d-4852-dc4e-0679a05e2312"
      },
      "outputs": [
        {
          "data": {
            "text/plain": [
              "(<tf.Tensor: shape=(2, 2), dtype=int32, numpy=\n",
              " array([[1, 2],\n",
              "        [3, 4]])>,\n",
              " TensorShape([2, 2]))"
            ]
          },
          "execution_count": 8,
          "metadata": {},
          "output_type": "execute_result"
        }
      ],
      "source": [
        "a=tf.constant([[1,2],[3,4]])\n",
        "a, a.shape"
      ]
    },
    {
      "cell_type": "code",
      "execution_count": null,
      "metadata": {
        "id": "QewXhzGiCb9e",
        "outputId": "84f9b348-b560-46c1-df72-3b2d9d872403"
      },
      "outputs": [
        {
          "data": {
            "text/plain": [
              "(<tf.Tensor: shape=(2, 2, 2), dtype=int32, numpy=\n",
              " array([[[1, 2],\n",
              "         [3, 4]],\n",
              " \n",
              "        [[5, 6],\n",
              "         [7, 8]]])>,\n",
              " TensorShape([2, 2, 2]))"
            ]
          },
          "execution_count": 9,
          "metadata": {},
          "output_type": "execute_result"
        }
      ],
      "source": [
        "a=tf.constant([[[1,2],[3,4]], [[5,6],[7,8]]])\n",
        "a, a.shape"
      ]
    },
    {
      "cell_type": "markdown",
      "metadata": {
        "id": "KnMiv9QUCb9e"
      },
      "source": [
        "### String"
      ]
    },
    {
      "cell_type": "code",
      "execution_count": null,
      "metadata": {
        "id": "29TkiJTSCb9f",
        "outputId": "a7621917-d7e3-43ea-aa41-f49a90045ef6"
      },
      "outputs": [
        {
          "data": {
            "text/plain": [
              "<tf.Tensor: shape=(), dtype=string, numpy=b'Hello, Deep learning'>"
            ]
          },
          "execution_count": 10,
          "metadata": {},
          "output_type": "execute_result"
        }
      ],
      "source": [
        "a=tf.constant('Hello, Deep learning')\n",
        "a"
      ]
    },
    {
      "cell_type": "code",
      "execution_count": null,
      "metadata": {
        "id": "1uo3iEJHCb9g",
        "outputId": "9d42b46c-45b4-42ad-cd3d-08804a3d2119"
      },
      "outputs": [
        {
          "data": {
            "text/plain": [
              "<tf.Tensor: shape=(), dtype=string, numpy=b'hello, deep learning'>"
            ]
          },
          "execution_count": 11,
          "metadata": {},
          "output_type": "execute_result"
        }
      ],
      "source": [
        "tf.strings.lower(a)"
      ]
    },
    {
      "cell_type": "markdown",
      "metadata": {
        "id": "u3rSSlGUCb9g"
      },
      "source": [
        "### Boolean"
      ]
    },
    {
      "cell_type": "code",
      "execution_count": null,
      "metadata": {
        "id": "jTWQzYelCb9h",
        "outputId": "dc4b9eda-cba8-4883-ae2c-2c39a5f140bd"
      },
      "outputs": [
        {
          "data": {
            "text/plain": [
              "<tf.Tensor: shape=(), dtype=bool, numpy=True>"
            ]
          },
          "execution_count": 12,
          "metadata": {},
          "output_type": "execute_result"
        }
      ],
      "source": [
        "a=tf.constant(True)\n",
        "a"
      ]
    },
    {
      "cell_type": "code",
      "execution_count": null,
      "metadata": {
        "id": "DRKR5aJoCb9h",
        "outputId": "0d9fe770-d107-40a8-b7ec-62d6d7cf1cf9"
      },
      "outputs": [
        {
          "data": {
            "text/plain": [
              "<tf.Tensor: shape=(2,), dtype=bool, numpy=array([ True, False])>"
            ]
          },
          "execution_count": 13,
          "metadata": {},
          "output_type": "execute_result"
        }
      ],
      "source": [
        "a=tf.constant([True, False])\n",
        "a"
      ]
    },
    {
      "cell_type": "code",
      "execution_count": null,
      "metadata": {
        "id": "2yYTU-DICb9i",
        "outputId": "c8799851-df43-4fbb-8061-253e6caa09ae"
      },
      "outputs": [
        {
          "data": {
            "text/plain": [
              "False"
            ]
          },
          "execution_count": 14,
          "metadata": {},
          "output_type": "execute_result"
        }
      ],
      "source": [
        "a=tf.constant(True)\n",
        "a is True"
      ]
    },
    {
      "cell_type": "code",
      "execution_count": null,
      "metadata": {
        "id": "zGMFC76NCb9i",
        "outputId": "4832429e-c361-49d9-aa29-357498c1dc09"
      },
      "outputs": [
        {
          "data": {
            "text/plain": [
              "<tf.Tensor: shape=(), dtype=bool, numpy=True>"
            ]
          },
          "execution_count": 15,
          "metadata": {},
          "output_type": "execute_result"
        }
      ],
      "source": [
        "a==True"
      ]
    },
    {
      "cell_type": "markdown",
      "metadata": {
        "id": "J4G68J3cCb9j"
      },
      "source": [
        "## 4.2 Numerical Precision"
      ]
    },
    {
      "cell_type": "code",
      "execution_count": null,
      "metadata": {
        "id": "DJtqOPjmCb9k",
        "outputId": "27e9d082-8115-47ff-dd66-05a0d5a540e3"
      },
      "outputs": [
        {
          "data": {
            "text/plain": [
              "<tf.Tensor: shape=(), dtype=int32, numpy=123456789>"
            ]
          },
          "execution_count": 16,
          "metadata": {},
          "output_type": "execute_result"
        }
      ],
      "source": [
        "tf.constant(123456789, dtype=tf.int16)\n",
        "tf.constant(123456789, dtype=tf.int32)"
      ]
    },
    {
      "cell_type": "code",
      "execution_count": null,
      "metadata": {
        "id": "-riK09UBCb9k",
        "outputId": "add91437-db7c-4bb6-edc3-82da5ba5c94a"
      },
      "outputs": [
        {
          "data": {
            "text/plain": [
              "<tf.Tensor: shape=(), dtype=float32, numpy=3.1415927>"
            ]
          },
          "execution_count": 17,
          "metadata": {},
          "output_type": "execute_result"
        }
      ],
      "source": [
        "tf.constant(np.pi, dtype=tf.float32)"
      ]
    },
    {
      "cell_type": "code",
      "execution_count": null,
      "metadata": {
        "id": "WIBzBDG1Cb9l",
        "outputId": "97ee25aa-41b5-400f-b163-3ade744e96b7"
      },
      "outputs": [
        {
          "data": {
            "text/plain": [
              "<tf.Tensor: shape=(), dtype=float64, numpy=3.141592653589793>"
            ]
          },
          "execution_count": 18,
          "metadata": {},
          "output_type": "execute_result"
        }
      ],
      "source": [
        "tf.constant(np.pi, dtype=tf.float64)"
      ]
    },
    {
      "cell_type": "code",
      "execution_count": null,
      "metadata": {
        "id": "vjk53l4GCb9l",
        "outputId": "4c0cea38-3c41-40ac-ecaf-b4b58017104a"
      },
      "outputs": [
        {
          "name": "stdout",
          "output_type": "stream",
          "text": [
            "before: <dtype: 'float16'>\n",
            "after: <dtype: 'float32'>\n"
          ]
        }
      ],
      "source": [
        "a=tf.constant(np.pi, dtype=tf.float16)\n",
        "print('before:', a.dtype)\n",
        "if a.dtype!=tf.float32:\n",
        "    a=tf.cast(a, tf.float32)\n",
        "print('after:', a.dtype)"
      ]
    },
    {
      "cell_type": "code",
      "execution_count": null,
      "metadata": {
        "id": "fBuOgZvMCb9m",
        "outputId": "72353930-7673-42b5-f25c-c4170c032f5b"
      },
      "outputs": [
        {
          "data": {
            "text/plain": [
              "<tf.Tensor: shape=(), dtype=int16, numpy=-13035>"
            ]
          },
          "execution_count": 20,
          "metadata": {},
          "output_type": "execute_result"
        }
      ],
      "source": [
        "a=tf.constant(123456789, dtype=tf.int32)\n",
        "tf.cast(a, tf.int16)"
      ]
    },
    {
      "cell_type": "code",
      "execution_count": null,
      "metadata": {
        "id": "BrkboU3_Cb9m",
        "outputId": "dd6ddd9c-b035-470c-aac5-079fe47f04e5"
      },
      "outputs": [
        {
          "data": {
            "text/plain": [
              "<tf.Tensor: shape=(2,), dtype=int32, numpy=array([1, 0])>"
            ]
          },
          "execution_count": 21,
          "metadata": {},
          "output_type": "execute_result"
        }
      ],
      "source": [
        "a=tf.constant([True, False])\n",
        "tf.cast(a, tf.int32)"
      ]
    },
    {
      "cell_type": "code",
      "execution_count": null,
      "metadata": {
        "id": "Gf7bjf1YCb9n",
        "outputId": "7342bd36-6512-49f6-88e2-2d254cbc771e"
      },
      "outputs": [
        {
          "data": {
            "text/plain": [
              "<tf.Tensor: shape=(4,), dtype=bool, numpy=array([ True, False,  True,  True])>"
            ]
          },
          "execution_count": 22,
          "metadata": {},
          "output_type": "execute_result"
        }
      ],
      "source": [
        "a=tf.constant([-1, 0, 1, 2])\n",
        "tf.cast(a, tf.bool)"
      ]
    },
    {
      "cell_type": "markdown",
      "metadata": {
        "id": "8BxsxrxECb9n"
      },
      "source": [
        "## 4.3 Tensors to be optimized"
      ]
    },
    {
      "cell_type": "code",
      "execution_count": null,
      "metadata": {
        "id": "MO8ZCDAMCb9n",
        "outputId": "6e0bbef5-ee5a-404f-d627-e19ddf8512cc"
      },
      "outputs": [
        {
          "data": {
            "text/plain": [
              "('Variable:0', True)"
            ]
          },
          "execution_count": 23,
          "metadata": {},
          "output_type": "execute_result"
        }
      ],
      "source": [
        "a=tf.constant([-1, 0, 1, 2])\n",
        "aa=tf.Variable(a)\n",
        "aa.name, aa.trainable"
      ]
    },
    {
      "cell_type": "code",
      "execution_count": null,
      "metadata": {
        "id": "cfe2fbEKCb9n",
        "outputId": "deb03ff0-0962-43e8-bc13-b13b187a3328"
      },
      "outputs": [
        {
          "data": {
            "text/plain": [
              "<tf.Variable 'Variable:0' shape=(2, 2) dtype=int32, numpy=\n",
              "array([[1, 2],\n",
              "       [3, 4]])>"
            ]
          },
          "execution_count": 24,
          "metadata": {},
          "output_type": "execute_result"
        }
      ],
      "source": [
        "a=tf.Variable([[1,2],[3,4]])\n",
        "a"
      ]
    },
    {
      "cell_type": "markdown",
      "metadata": {
        "id": "Lr6WFUG0Cb9o"
      },
      "source": [
        "## 4.4 Create Tensors"
      ]
    },
    {
      "cell_type": "markdown",
      "metadata": {
        "id": "UbgEl04BCb9o"
      },
      "source": [
        "### Create tensors from arrays and lists"
      ]
    },
    {
      "cell_type": "code",
      "execution_count": null,
      "metadata": {
        "id": "tCfbZwMACb9o",
        "outputId": "0f1e88e1-a2f4-41cf-b002-4cd58527c770"
      },
      "outputs": [
        {
          "data": {
            "text/plain": [
              "<tf.Tensor: shape=(2,), dtype=float32, numpy=array([1., 2.], dtype=float32)>"
            ]
          },
          "execution_count": 25,
          "metadata": {},
          "output_type": "execute_result"
        }
      ],
      "source": [
        "# create tensor from python list\n",
        "tf.convert_to_tensor([1, 2.])"
      ]
    },
    {
      "cell_type": "code",
      "execution_count": null,
      "metadata": {
        "id": "xw7Ud7fxCb9o",
        "outputId": "2d60d1a2-9098-421b-b56b-36405fd90908"
      },
      "outputs": [
        {
          "data": {
            "text/plain": [
              "<tf.Tensor: shape=(2, 2), dtype=float64, numpy=\n",
              "array([[1., 2.],\n",
              "       [3., 4.]])>"
            ]
          },
          "execution_count": 26,
          "metadata": {},
          "output_type": "execute_result"
        }
      ],
      "source": [
        "# create a tensor from numpy array\n",
        "tf.convert_to_tensor(np.array([[1,2.],[3,4]]))"
      ]
    },
    {
      "cell_type": "markdown",
      "metadata": {
        "id": "94kyqjYaCb9o"
      },
      "source": [
        "### create all-0 or all-1 tensors"
      ]
    },
    {
      "cell_type": "code",
      "execution_count": null,
      "metadata": {
        "id": "79WcrwxoCb9p",
        "outputId": "0d1eff56-e4c9-4fae-9033-2a69c2932fa4"
      },
      "outputs": [
        {
          "data": {
            "text/plain": [
              "(<tf.Tensor: shape=(), dtype=float32, numpy=0.0>,\n",
              " <tf.Tensor: shape=(), dtype=float32, numpy=1.0>)"
            ]
          },
          "execution_count": 27,
          "metadata": {},
          "output_type": "execute_result"
        }
      ],
      "source": [
        "tf.zeros([]), tf.ones([])"
      ]
    },
    {
      "cell_type": "code",
      "execution_count": null,
      "metadata": {
        "id": "jvDM5miYCb9p",
        "outputId": "549f69c4-7be8-4baa-944b-7b838ff587aa"
      },
      "outputs": [
        {
          "data": {
            "text/plain": [
              "(<tf.Tensor: shape=(1,), dtype=float32, numpy=array([0.], dtype=float32)>,\n",
              " <tf.Tensor: shape=(1,), dtype=float32, numpy=array([1.], dtype=float32)>)"
            ]
          },
          "execution_count": 28,
          "metadata": {},
          "output_type": "execute_result"
        }
      ],
      "source": [
        "tf.zeros([1]), tf.ones([1])"
      ]
    },
    {
      "cell_type": "code",
      "execution_count": null,
      "metadata": {
        "id": "n6MbnbpCCb9p",
        "outputId": "b6ae9623-b725-4910-d3ea-55ed0d577d24"
      },
      "outputs": [
        {
          "data": {
            "text/plain": [
              "<tf.Tensor: shape=(2, 2), dtype=float32, numpy=\n",
              "array([[0., 0.],\n",
              "       [0., 0.]], dtype=float32)>"
            ]
          },
          "execution_count": 29,
          "metadata": {},
          "output_type": "execute_result"
        }
      ],
      "source": [
        "tf.zeros([2,2])"
      ]
    },
    {
      "cell_type": "code",
      "execution_count": null,
      "metadata": {
        "id": "ibVW5OeKCb9p",
        "outputId": "86bd4d71-8412-4bb8-fdcb-59ff293cc5b8"
      },
      "outputs": [
        {
          "data": {
            "text/plain": [
              "<tf.Tensor: shape=(3, 2), dtype=float32, numpy=\n",
              "array([[1., 1.],\n",
              "       [1., 1.],\n",
              "       [1., 1.]], dtype=float32)>"
            ]
          },
          "execution_count": 30,
          "metadata": {},
          "output_type": "execute_result"
        }
      ],
      "source": [
        "tf.ones([3,2])"
      ]
    },
    {
      "cell_type": "code",
      "execution_count": null,
      "metadata": {
        "id": "JyHnLPLTCb9q",
        "outputId": "754d867b-e91c-4425-9dd4-f9e2fff51cb3"
      },
      "outputs": [
        {
          "data": {
            "text/plain": [
              "<tf.Tensor: shape=(2, 3), dtype=float32, numpy=\n",
              "array([[0., 0., 0.],\n",
              "       [0., 0., 0.]], dtype=float32)>"
            ]
          },
          "execution_count": 31,
          "metadata": {},
          "output_type": "execute_result"
        }
      ],
      "source": [
        "a=tf.ones([2,3])\n",
        "tf.zeros_like(a)"
      ]
    },
    {
      "cell_type": "code",
      "execution_count": null,
      "metadata": {
        "id": "6BZK29TsCb9q",
        "outputId": "83115af4-77d2-4546-d559-db2e92940ec2"
      },
      "outputs": [
        {
          "data": {
            "text/plain": [
              "<tf.Tensor: shape=(3, 2), dtype=float32, numpy=\n",
              "array([[0., 0.],\n",
              "       [0., 0.],\n",
              "       [0., 0.]], dtype=float32)>"
            ]
          },
          "execution_count": 32,
          "metadata": {},
          "output_type": "execute_result"
        }
      ],
      "source": [
        "a=tf.zeros([3, 2])\n",
        "tf.zeros_like(a)"
      ]
    },
    {
      "cell_type": "markdown",
      "metadata": {
        "id": "ClwQYHRqCb9q"
      },
      "source": [
        "### create customized numeric tensor"
      ]
    },
    {
      "cell_type": "code",
      "execution_count": null,
      "metadata": {
        "id": "01wne4FaCb9q",
        "outputId": "5036919d-cf97-48e7-9fae-bb21b9225c04"
      },
      "outputs": [
        {
          "data": {
            "text/plain": [
              "<tf.Tensor: shape=(), dtype=int32, numpy=-1>"
            ]
          },
          "execution_count": 33,
          "metadata": {},
          "output_type": "execute_result"
        }
      ],
      "source": [
        "tf.fill([], -1)"
      ]
    },
    {
      "cell_type": "code",
      "execution_count": null,
      "metadata": {
        "id": "sCUiOBKMCb9q",
        "outputId": "6af11461-99c4-4e04-daa3-1b87d57acd86"
      },
      "outputs": [
        {
          "data": {
            "text/plain": [
              "<tf.Tensor: shape=(1,), dtype=int32, numpy=array([-1])>"
            ]
          },
          "execution_count": 34,
          "metadata": {},
          "output_type": "execute_result"
        }
      ],
      "source": [
        "tf.fill([1], -1)"
      ]
    },
    {
      "cell_type": "code",
      "execution_count": null,
      "metadata": {
        "id": "ML6kHlLICb9r",
        "outputId": "b5d65a4d-7430-45e6-f6a4-52461fa1aa1b"
      },
      "outputs": [
        {
          "data": {
            "text/plain": [
              "<tf.Tensor: shape=(2, 2), dtype=int32, numpy=\n",
              "array([[99, 99],\n",
              "       [99, 99]])>"
            ]
          },
          "execution_count": 35,
          "metadata": {},
          "output_type": "execute_result"
        }
      ],
      "source": [
        "tf.fill([2,2], 99)"
      ]
    },
    {
      "cell_type": "markdown",
      "metadata": {
        "id": "fjxK4ns2Cb9r"
      },
      "source": [
        "### create tensor from known distribution"
      ]
    },
    {
      "cell_type": "code",
      "execution_count": null,
      "metadata": {
        "id": "Q0QZSI8LCb9r",
        "outputId": "1f1c034c-7884-4cff-e210-04bfc4a44d1e"
      },
      "outputs": [
        {
          "data": {
            "text/plain": [
              "<tf.Tensor: shape=(2, 2), dtype=float32, numpy=\n",
              "array([[ 0.2363742 , -1.8211943 ],\n",
              "       [ 0.4596798 ,  0.31178805]], dtype=float32)>"
            ]
          },
          "execution_count": 36,
          "metadata": {},
          "output_type": "execute_result"
        }
      ],
      "source": [
        "tf.random.normal([2,2])"
      ]
    },
    {
      "cell_type": "code",
      "execution_count": null,
      "metadata": {
        "id": "b1YGvQ21Cb9r",
        "outputId": "cb423fab-fe9f-4ca3-9162-8082679cf4cc"
      },
      "outputs": [
        {
          "data": {
            "text/plain": [
              "<tf.Tensor: shape=(2, 2), dtype=float32, numpy=\n",
              "array([[0.695055 , 0.809806 ],\n",
              "       [1.406203 , 1.1968338]], dtype=float32)>"
            ]
          },
          "execution_count": 37,
          "metadata": {},
          "output_type": "execute_result"
        }
      ],
      "source": [
        "tf.random.normal([2,2], mean=1, stddev=2)"
      ]
    },
    {
      "cell_type": "code",
      "execution_count": null,
      "metadata": {
        "id": "nkv7n38jCb9r",
        "outputId": "178a93b6-27df-4377-ca82-4f356ebbe814"
      },
      "outputs": [
        {
          "data": {
            "text/plain": [
              "<tf.Tensor: shape=(2, 2), dtype=float32, numpy=\n",
              "array([[0.5472572 , 0.75468886],\n",
              "       [0.73405004, 0.81464696]], dtype=float32)>"
            ]
          },
          "execution_count": 38,
          "metadata": {},
          "output_type": "execute_result"
        }
      ],
      "source": [
        "tf.random.uniform([2,2])"
      ]
    },
    {
      "cell_type": "code",
      "execution_count": null,
      "metadata": {
        "id": "Io4kdxjuCb9s",
        "outputId": "f620173c-a4b9-40fd-eefe-c6002804d529"
      },
      "outputs": [
        {
          "data": {
            "text/plain": [
              "<tf.Tensor: shape=(2, 2), dtype=float32, numpy=\n",
              "array([[9.444641 , 6.0924053],\n",
              "       [5.9993305, 3.9322746]], dtype=float32)>"
            ]
          },
          "execution_count": 39,
          "metadata": {},
          "output_type": "execute_result"
        }
      ],
      "source": [
        "tf.random.uniform([2,2], maxval=10)"
      ]
    },
    {
      "cell_type": "code",
      "execution_count": null,
      "metadata": {
        "id": "eLj0PX-dCb9s",
        "outputId": "3e51774b-054d-4a86-adb3-6ad20616d344"
      },
      "outputs": [
        {
          "data": {
            "text/plain": [
              "<tf.Tensor: shape=(2, 2), dtype=int32, numpy=\n",
              "array([[40, 45],\n",
              "       [ 1, 62]])>"
            ]
          },
          "execution_count": 40,
          "metadata": {},
          "output_type": "execute_result"
        }
      ],
      "source": [
        "# create an integer tensor from a unifrom distribution with interval [0, 100)\n",
        "tf.random.uniform([2,2], maxval=100, dtype=tf.int32)"
      ]
    },
    {
      "cell_type": "markdown",
      "metadata": {
        "id": "vgiW-lZECb9s"
      },
      "source": [
        "### create a sequence"
      ]
    },
    {
      "cell_type": "code",
      "execution_count": null,
      "metadata": {
        "id": "J35cNQ5DCb9s",
        "outputId": "160e51ed-ae69-4fd4-e1db-1c550b8b067f"
      },
      "outputs": [
        {
          "data": {
            "text/plain": [
              "<tf.Tensor: shape=(10,), dtype=int32, numpy=array([0, 1, 2, 3, 4, 5, 6, 7, 8, 9])>"
            ]
          },
          "execution_count": 41,
          "metadata": {},
          "output_type": "execute_result"
        }
      ],
      "source": [
        "tf.range(10)"
      ]
    },
    {
      "cell_type": "code",
      "execution_count": null,
      "metadata": {
        "id": "Hj-2lLJ-Cb9s",
        "outputId": "a090fa7d-7906-470d-b32a-7afe747a9b86"
      },
      "outputs": [
        {
          "data": {
            "text/plain": [
              "<tf.Tensor: shape=(5,), dtype=int32, numpy=array([0, 2, 4, 6, 8])>"
            ]
          },
          "execution_count": 42,
          "metadata": {},
          "output_type": "execute_result"
        }
      ],
      "source": [
        "tf.range(10, delta=2)"
      ]
    },
    {
      "cell_type": "code",
      "execution_count": null,
      "metadata": {
        "id": "mXq5TxbtCb9t",
        "outputId": "cf3511b7-9931-48f4-c754-36109fd65d9b"
      },
      "outputs": [
        {
          "data": {
            "text/plain": [
              "<tf.Tensor: shape=(5,), dtype=int32, numpy=array([1, 3, 5, 7, 9])>"
            ]
          },
          "execution_count": 43,
          "metadata": {},
          "output_type": "execute_result"
        }
      ],
      "source": [
        "tf.range(1, 10, delta=2)"
      ]
    }
  ],
  "metadata": {
    "kernelspec": {
      "display_name": "Python 3",
      "language": "python",
      "name": "python3"
    },
    "language_info": {
      "codemirror_mode": {
        "name": "ipython",
        "version": 3
      },
      "file_extension": ".py",
      "mimetype": "text/x-python",
      "name": "python",
      "nbconvert_exporter": "python",
      "pygments_lexer": "ipython3",
      "version": "3.8.0"
    },
    "orig_nbformat": 4,
    "vscode": {
      "interpreter": {
        "hash": "46a5e820fae5c01f8ab8f3b920045ce887673a37bd422c73202f4e116d9bb3c0"
      }
    },
    "colab": {
      "provenance": []
    }
  },
  "nbformat": 4,
  "nbformat_minor": 0
}